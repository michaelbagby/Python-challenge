{
 "cells": [
  {
   "cell_type": "markdown",
   "metadata": {},
   "source": [
    "## PyBank\n",
    "\n",
    "![Revenue](Images/revenue-per-lead.jpg)\n",
    "\n",
    "* In this challenge, you are tasked with creating a Python script for analyzing the financial records of your company. You will give a set of financial data called [budget_data.csv](PyBank/Resources/budget_data.csv). The dataset is composed of two columns: `Date` and `Profit/Losses`. (Thankfully, your company has rather lax standards for accounting so the records are simple.)\n",
    "\n",
    "* Your task is to create a Python script that analyzes the records to calculate each of the following:\n",
    "\n",
    "  * The total number of months included in the dataset\n",
    "\n",
    "  * The net total amount of \"Profit/Losses\" over the entire period\n",
    "\n",
    "  * The average of the changes in \"Profit/Losses\" over the entire period\n",
    "\n",
    "  * The greatest increase in profits (date and amount) over the entire period\n",
    "\n",
    "  * The greatest decrease in losses (date and amount) over the entire period\n",
    "\n",
    "* As an example, your analysis should look similar to the one below:\n",
    "\n",
    "  ```text\n",
    "  Financial Analysis\n",
    "  ----------------------------\n",
    "  Total Months: 86\n",
    "  Total: $38382578\n",
    "  Average  Change: $-2315.12\n",
    "  Greatest Increase in Profits: Feb-2012 ($1926159)\n",
    "  Greatest Decrease in Profits: Sep-2013 ($-2196167)\n",
    "  ```\n",
    "\n",
    "* In addition, your final script should both print the analysis to the terminal and export a text file with the results.\n"
   ]
  },
  {
   "cell_type": "code",
   "execution_count": 6,
   "metadata": {},
   "outputs": [],
   "source": [
    "import csv\n",
    "\n",
    "file_to_load = \"PyBank/resources/budget_data.csv\"\n",
    "\n",
    "file_to_output = \"PyBank/Budgetresults.txt\"\n",
    "\n",
    "\n",
    "total_months = 0\n",
    "\n",
    "prev_revenue = 0\n",
    "\n",
    "month_of_change = []\n",
    "\n",
    "revenue_change_list = []\n",
    "\n",
    "greatest_increase = [\"\", 0]\n",
    "\n",
    "greatest_decrease = [\"\", 9999999999999999999]\n",
    "\n",
    "total_revenue = 0\n",
    "\n"
   ]
  },
  {
   "cell_type": "code",
   "execution_count": 7,
   "metadata": {},
   "outputs": [],
   "source": [
    "\n",
    "with open(file_to_load) as revenue_data:\n",
    "\n",
    "    reader = csv.DictReader(revenue_data)\n",
    "\n",
    "\n",
    "\n",
    "    for row in reader:\n",
    "\n",
    "\n",
    "        total_months = total_months + 1\n",
    "\n",
    "        total_revenue = total_revenue + int(row[\"Profit/Losses\"])\n",
    "\n",
    "        revenue_change = int(row[\"Profit/Losses\"]) - prev_revenue\n",
    "\n",
    "        prev_revenue = int(row[\"Profit/Losses\"])\n",
    "\n",
    "        revenue_change_list = revenue_change_list + [revenue_change]\n",
    "\n",
    "        month_of_change = month_of_change + [row[\"Date\"]]\n",
    "\n",
    "        if (revenue_change > greatest_increase[1]):\n",
    "\n",
    "            greatest_increase[0] = row[\"Date\"]\n",
    "\n",
    "            greatest_increase[1] = revenue_change\n",
    "\n",
    "\n",
    "        if (revenue_change < greatest_decrease[1]):\n",
    "\n",
    "            greatest_decrease[0] = row[\"Date\"]\n",
    "\n",
    "            greatest_decrease[1] = revenue_change\n",
    "\n",
    "\n",
    "\n",
    "revenue_avg = sum(revenue_change_list) / len(revenue_change_list)\n",
    "\n",
    "\n"
   ]
  },
  {
   "cell_type": "code",
   "execution_count": 8,
   "metadata": {},
   "outputs": [
    {
     "name": "stdout",
     "output_type": "stream",
     "text": [
      "\n",
      "Financial Analysis\n",
      "----------------------------\n",
      "Total Months: 86\n",
      "Total Revenue: $38382578\n",
      "Average Revenue Change: $7803.476744186047\n",
      "Greatest Increase in Revenue: Feb-2012 ($1926159)\n",
      "Greatest Decrease in Revenue: Sep-2013 ($-2196167)\n",
      "\n"
     ]
    }
   ],
   "source": [
    "\n",
    "output = (\n",
    "\n",
    "    f\"\\nFinancial Analysis\\n\"\n",
    "\n",
    "    f\"----------------------------\\n\"\n",
    "\n",
    "    f\"Total Months: {total_months}\\n\"\n",
    "\n",
    "    f\"Total Revenue: ${total_revenue}\\n\"\n",
    "\n",
    "    f\"Average Revenue Change: ${revenue_avg}\\n\"\n",
    "\n",
    "    f\"Greatest Increase in Revenue: {greatest_increase[0]} (${greatest_increase[1]})\\n\"\n",
    "\n",
    "    f\"Greatest Decrease in Revenue: {greatest_decrease[0]} (${greatest_decrease[1]})\\n\")\n",
    "\n",
    "\n",
    "print(output)\n",
    "\n",
    "with open(file_to_output, \"w\") as txt_file:\n",
    "\n",
    "    txt_file.write(output)"
   ]
  },
  {
   "cell_type": "code",
   "execution_count": null,
   "metadata": {},
   "outputs": [],
   "source": []
  },
  {
   "cell_type": "code",
   "execution_count": null,
   "metadata": {},
   "outputs": [],
   "source": []
  },
  {
   "cell_type": "code",
   "execution_count": null,
   "metadata": {},
   "outputs": [],
   "source": []
  },
  {
   "cell_type": "code",
   "execution_count": null,
   "metadata": {},
   "outputs": [],
   "source": [
    " "
   ]
  }
 ],
 "metadata": {
  "kernelspec": {
   "display_name": "Python 3",
   "language": "python",
   "name": "python3"
  },
  "language_info": {
   "codemirror_mode": {
    "name": "ipython",
    "version": 3
   },
   "file_extension": ".py",
   "mimetype": "text/x-python",
   "name": "python",
   "nbconvert_exporter": "python",
   "pygments_lexer": "ipython3",
   "version": "3.7.1"
  }
 },
 "nbformat": 4,
 "nbformat_minor": 2
}
